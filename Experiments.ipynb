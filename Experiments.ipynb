{
 "cells": [
  {
   "cell_type": "markdown",
   "metadata": {},
   "source": [
    "# Nonparametric Estimation in Geometric RandomGraph with Markovian dynamic on the latentvariables"
   ]
  },
  {
   "cell_type": "code",
   "execution_count": 6,
   "metadata": {},
   "outputs": [],
   "source": [
    "from MGRG.Graph import Graph\n",
    "import numpy as np\n",
    "import pandas as pd\n",
    "import matplotlib.pyplot as plt"
   ]
  },
  {
   "cell_type": "code",
   "execution_count": 10,
   "metadata": {},
   "outputs": [],
   "source": [
    "def study_error(latitude,enveloppe):\n",
    "    d = 3\n",
    "    results  = {'error_enveloppe':[],'error_latitude':[],'size':[]}\n",
    "    listen = list(map(int,np.logspace(np.log10(20),np.log10(1000),20)))\n",
    "    for n in listen:\n",
    "        for _ in range(7):\n",
    "            G = Graph(n, d, sampling_type = 'markov', latitude = latitude, enveloppe = enveloppe)\n",
    "            G.HAC_R_study()\n",
    "            results['error_enveloppe'].append(G.error_estimation_enveloppe())\n",
    "            results['error_latitude'].append(G.error_estimation_latitude())\n",
    "            results['size'].append(n)\n",
    "    df = pd.DataFrame(results)\n",
    "    df = df.apply(np.log10)\n",
    "    return df\n",
    "\n",
    "import seaborn as sns\n",
    "def plot_errors(dataframe):\n",
    "    fig = plt.figure(figsize=(15,5))\n",
    "    ax = fig.add_subplot(121)\n",
    "    sns.lineplot(x=\"size\", y=\"error_enveloppe\", err_style=\"bars\", data=dataframe, ax = ax)\n",
    "    ax.set_xlabel('$\\log \\;n$', fontsize=16)\n",
    "    ax.set_ylabel('$\\log \\;\\delta_2(p^*,\\hat{p})$', fontsize=16)\n",
    "    ax.set_title('Estimation Error Envelope function', fontsize=16)\n",
    "    ax = fig.add_subplot(122)\n",
    "    sns.lineplot(x=\"size\", y=\"error_latitude\", err_style=\"bars\", data=dataframe, ax = ax)\n",
    "    ax.set_xlabel('$\\log \\; n$', fontsize=16)\n",
    "    ax.set_ylabel('$\\log \\; \\delta_2(f^*,\\hat{f})$', fontsize=16)\n",
    "    ax.set_title('Estimation Error Latitude function', fontsize=16)\n",
    "    plt.savefig('')\n",
    "    plt.show()"
   ]
  },
  {
   "cell_type": "code",
   "execution_count": null,
   "metadata": {},
   "outputs": [],
   "source": [
    "df = study_error('mixture', 'heaviside')\n",
    "plot_errors(df)"
   ]
  }
 ],
 "metadata": {
  "kernelspec": {
   "display_name": "Python 3",
   "language": "python",
   "name": "python3"
  },
  "language_info": {
   "codemirror_mode": {
    "name": "ipython",
    "version": 3
   },
   "file_extension": ".py",
   "mimetype": "text/x-python",
   "name": "python",
   "nbconvert_exporter": "python",
   "pygments_lexer": "ipython3",
   "version": "3.6.8"
  }
 },
 "nbformat": 4,
 "nbformat_minor": 2
}
