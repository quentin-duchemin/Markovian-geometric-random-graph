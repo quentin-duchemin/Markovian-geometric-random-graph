{
 "cells": [
  {
   "cell_type": "code",
   "execution_count": null,
   "id": "0c48408a",
   "metadata": {},
   "outputs": [],
   "source": [
    "import MRGG\n",
    "from MRGG.Graph import Graph\n",
    "import numpy as np\n",
    "import pandas as pd\n",
    "import matplotlib.pyplot as plt\n",
    "import scipy as sc\n",
    "import os\n",
    "import time\n",
    "import math\n",
    "\n",
    "from compute_errors import compute_errors\n",
    "from hypothesis_testing import hypothesis_testing\n",
    "from link_probas import link_probas\n",
    "from risks import risks"
   ]
  },
  {
   "cell_type": "markdown",
   "id": "c1f2ea04",
   "metadata": {},
   "source": [
    "## 1) Function used to generate results\n",
    "\n",
    "- Hypothesis Testing: we test if the latent positions have been sampled uniformly or not.\n",
    "- Computation of the Beysian, MRGG and IID risks.\n",
    "- Computation of delta_2 errors between the spectra of the estimated and the true envelope or latitude.\n",
    "- Computation of the L2 errors between the estimated and the true envelope or latitude.\n",
    "- Probabilities of connections between the ten first nodes in the graph and the last node in the graph."
   ]
  },
  {
   "cell_type": "code",
   "execution_count": null,
   "id": "497ea8c2",
   "metadata": {},
   "outputs": [],
   "source": [
    "def parallel_computations(dimension, seed, list_n, envelope, latitude, path, params):\n",
    "    import os\n",
    "    import time\n",
    "    os.chdir('MRGG')\n",
    "    from compute_errors import compute_errors\n",
    "    from link_probas import link_probas\n",
    "    from hypothesis_testing import hypothesis_testing\n",
    "    from risks import risks\n",
    "    try:\n",
    "        os.mkdir(path+str(seed))\n",
    "    except:\n",
    "        pass\n",
    "    hypothesis_testing(dimension, seed, list_n=list_n, envelope=envelope, latitude=latitude, path=path+str(seed)+'/', params=params)\n",
    "    print('Hypothesis Testing done: ', time.time())\n",
    "    risks(dimension, seed, list_n=list_n, envelope=envelope, latitude=latitude, path=path+str(seed)+'/', params=params)\n",
    "    print('Risk done: ', time.time())\n",
    "    compute_errors(dimension, seed, list_n=list_n, envelope=envelope, latitude=latitude, path=path+str(seed)+'/', params=params)\n",
    "    print('Errors done: ', time.time())\n",
    "    link_probas(dimension, seed, list_n=list_n, nbnodes=10, envelope=envelope, latitude=latitude, path=path+str(seed)+'/', params=params)\n",
    "    print('Proba done: ', time.time())"
   ]
  },
  {
   "cell_type": "markdown",
   "id": "efcbcdcc",
   "metadata": {},
   "source": [
    "## 2) Definition of the settings for which we want to compute results"
   ]
  },
  {
   "cell_type": "code",
   "execution_count": null,
   "id": "996d393f",
   "metadata": {},
   "outputs": [],
   "source": [
    "dims = 12*[4]\n",
    "seeds = [i for i in range(12)]\n",
    "lists_n = [[200,500,800,1100,1500] for i in range(12)]\n",
    "envs = 8*['rayleigh']+4*['heaviside']\n",
    "lats = 3*(3*['beta']+['mixture'])\n",
    "paths = 12*['final_data/']\n",
    "\n",
    "envparams = [{'xi':0.5,'eta':1,'r':1},{'xi':0.25,'eta':3,'r':1},{}]\n",
    "latparams = [{'alpha':1,'beta':3},{'alpha':2,'beta':5},{'alpha':2,'beta':2},{}]\n",
    "params = [ dict(envdic, **latdic) for envdic in envparams for latdic in latparams]\n",
    "print(params)"
   ]
  },
  {
   "cell_type": "markdown",
   "id": "6b6eae85",
   "metadata": {},
   "source": [
    "## 3) Parallel computations of the results"
   ]
  },
  {
   "cell_type": "code",
   "execution_count": null,
   "id": "97b8f280",
   "metadata": {},
   "outputs": [],
   "source": [
    "import ipyparallel\n",
    "\n",
    "# attach to a running cluster\n",
    "cluster = ipyparallel.Client()\n",
    "print('profile:', cluster.profile)\n",
    "print(\"IDs:\", cluster.ids) # Print process id numbers\n",
    "\n",
    "%px import socket\n",
    "%px print(\"hosts:\", socket.gethostname())\n",
    "\n",
    "cluster[:].map_sync(parallel_computations, dims, seeds, lists_n, envs, lats, paths, params)\n"
   ]
  },
  {
   "cell_type": "markdown",
   "id": "f61b04c6",
   "metadata": {},
   "source": [
    "## 4) Generation of figures for saved files"
   ]
  },
  {
   "cell_type": "code",
   "execution_count": null,
   "id": "5ea64597",
   "metadata": {},
   "outputs": [],
   "source": [
    "for i in range(12):\n",
    "    plt.figure(i)\n",
    "    a = np.load('final_data/'+str(i)+'/link_probas_iid_n1500_4_'+envs[i]+'_'+lats[i]+'_'+str(i)+'.npy')\n",
    "    plt.scatter([i for i in range(10)], a, marker='*', label='iid case (RGG estimate)',s=100*np.ones(10))\n",
    "    a = np.load('final_data/'+str(i)+'/true_link_probas_n1500_4_'+envs[i]+'_'+lats[i]+'_'+str(i)+'.npy')\n",
    "    plt.scatter([i for i in range(10)], a, marker='+', label='Bayes optimal probabilities',s=100*np.ones(10))\n",
    "    a = np.load('final_data/'+str(i)+'/link_probas_pred_n1500_4_'+envs[i]+'_'+lats[i]+'_'+str(i)+'.npy')\n",
    "    plt.scatter([i for i in range(10)], a,marker='+', c='green', label='MRGG estimate',s=100*np.ones(10))\n",
    "    plt.legend(fontsize=13)\n",
    "    plt.xlabel('$10$ first nodes: $X_1, \\dots, X_{10}$',fontsize=14)\n",
    "    plt.ylabel('Link probability', fontsize=14)"
   ]
  },
  {
   "cell_type": "markdown",
   "id": "777aa105",
   "metadata": {},
   "source": [
    "### 4.1) Figure for the Risks"
   ]
  },
  {
   "cell_type": "code",
   "execution_count": null,
   "id": "18d786ba",
   "metadata": {},
   "outputs": [],
   "source": [
    "for i in range(12):\n",
    "    plt.figure(i)\n",
    "    risks = np.load('final_data/'+str(i)+'/RISKS_4_'+envs[i]+'_'+lats[i]+'_'+str(i)+'.npy')\n",
    "\n",
    "    Liid = []\n",
    "    L = []\n",
    "    Lesti = []\n",
    "    list_n = [200,500,800,1100,1500]\n",
    "    NBRISK = 30\n",
    "    limn = len(list_n)\n",
    "    for i in range(limn):\n",
    "        Liid.append(np.mean(risks[i,:,1])/NBRISK)\n",
    "        L.append(np.mean(risks[i,:,0])/NBRISK)\n",
    "        Lesti.append(np.mean(risks[i,:,2])/NBRISK)\n",
    "\n",
    "    plt.scatter(list_n, Liid[:limn], marker='*',label='Random classifier',s=100*np.ones(limn))\n",
    "    plt.scatter(list_n, np.array(Lesti[:limn]),marker='+', c='green', label='MRGG classifier',s=100*np.ones(limn))\n",
    "    plt.scatter(list_n, np.array(L[:limn]),marker='x', c='orange', label='Bayes classifier',s=100*np.ones(limn))\n",
    "    plt.xlabel('Size of the graph: $n$',fontsize=14)\n",
    "    plt.ylabel('Risk',fontsize=14)\n",
    "    plt.legend(fontsize=13)\n",
    "    plt.tight_layout()"
   ]
  },
  {
   "cell_type": "markdown",
   "id": "31aa6fb5",
   "metadata": {},
   "source": [
    "### 4.2) Figures for the $L^2$ errors"
   ]
  },
  {
   "cell_type": "code",
   "execution_count": null,
   "id": "8c3a5dd5",
   "metadata": {},
   "outputs": [],
   "source": [
    "for i in range(12):\n",
    "    plt.figure(i)\n",
    "    list_n = lists_n[i]\n",
    "    L2env = np.load('final_data/'+str(i)+'/L2errors_env_dim_4_'+envs[i]+'_'+lats[i]+'_'+str(i)+'.npy')\n",
    "\n",
    "    L2lat = np.load('final_data/'+str(i)+'/L2errors_lat_dim_4_'+envs[i]+'_'+lats[i]+'_'+str(i)+'.npy')\n",
    "\n",
    "    plt.xlabel('size of the graph: $n$',fontsize=14)\n",
    "    plt.ylabel('$L^2$ errors', fontsize=14)\n",
    "    plt.plot(list_n, np.mean(L2lat,axis=0), label='Latitude')\n",
    "    plt.plot(list_n, np.mean(L2env, axis=0), label='Envelope')\n",
    "    plt.legend(fontsize=13)"
   ]
  },
  {
   "cell_type": "markdown",
   "id": "b05ba5a1",
   "metadata": {},
   "source": [
    "### 4.3) Figures for the $\\delta_2$ errors"
   ]
  },
  {
   "cell_type": "code",
   "execution_count": null,
   "id": "1915ff8a",
   "metadata": {},
   "outputs": [],
   "source": [
    "for i in range(12):\n",
    "    plt.figure(i)\n",
    "    L2lat = np.load('final_data/'+str(i)+'/delta2errors_lat_dim_4_'+envs[i]+'_'+lats[i]+'_'+str(i)+'.npy')\n",
    "    L2env = np.load('final_data/'+str(i)+'/delta2errors_env_dim_4_'+envs[i]+'_'+lats[i]+'_'+str(i)+'.npy')\n",
    "\n",
    "\n",
    "    plt.xlabel('size of the graph: $n$',fontsize=14)\n",
    "    plt.ylabel('$\\delta_2$ errors', fontsize=14)\n",
    "    plt.plot(list_n, np.mean(L2lat,axis=0), label='Latitude')\n",
    "    plt.plot(list_n, np.mean(L2env, axis=0), label='Envelope')\n",
    "    plt.legend(fontsize=13)"
   ]
  },
  {
   "cell_type": "markdown",
   "id": "3460852a",
   "metadata": {},
   "source": [
    "### 4.4) Figures for the Hupothesis Testing"
   ]
  },
  {
   "cell_type": "code",
   "execution_count": null,
   "id": "9cd3266a",
   "metadata": {},
   "outputs": [],
   "source": [
    "\n",
    "import matplotlib.pyplot as plt\n",
    "for i in range(12):\n",
    "    pvalsiid = np.load('final_data/'+str(i)+'/pvalue_iid_dim_4_'+envs[i]+'_'+lats[i]+'_'+str(i)+'.npy')\n",
    "    \n",
    "    pvals = np.load('final_data/'+str(i)+'/pvalue_lat_dim_4_'+envs[i]+'_'+lats[i]+'_'+str(i)+'.npy')\n",
    "\n",
    "    rejet_iid = np.zeros(len(list_n))\n",
    "    rejet_lat = np.zeros(len(list_n))\n",
    "    for k,n in enumerate(list_n):\n",
    "        sorted_piid = np.sort(pvalsiid[:,k])\n",
    "        limitechi2 = sorted_piid[int(0.05 * len(sorted_piid))]\n",
    "        rejet_iid[k] = (int(0.05 * len(sorted_piid))/len(sorted_piid))\n",
    "        rejet_lat[k] = np.mean( pvals[:,k] < limitechi2 )\n",
    "\n",
    "\n",
    "    fig = plt.figure(i)\n",
    "    plt.plot(list_n, rejet_iid, label='Null (Type I error)', linestyle='--')\n",
    "    plt.plot(list_n, rejet_lat, label='Alternative (Power)')\n",
    "    plt.xlabel('$n$',fontsize=16)\n",
    "    plt.ylabel('% of rejection',fontsize=16)\n",
    "    plt.legend(fontsize=13)"
   ]
  }
 ],
 "metadata": {
  "kernelspec": {
   "display_name": "Python 3",
   "language": "python",
   "name": "python3"
  },
  "language_info": {
   "codemirror_mode": {
    "name": "ipython",
    "version": 3
   },
   "file_extension": ".py",
   "mimetype": "text/x-python",
   "name": "python",
   "nbconvert_exporter": "python",
   "pygments_lexer": "ipython3",
   "version": "3.8.8"
  }
 },
 "nbformat": 4,
 "nbformat_minor": 5
}
